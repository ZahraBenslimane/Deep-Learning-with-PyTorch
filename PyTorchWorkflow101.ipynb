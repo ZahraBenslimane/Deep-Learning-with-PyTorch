{
 "cells": [
  {
   "cell_type": "code",
   "execution_count": 122,
   "metadata": {},
   "outputs": [],
   "source": [
    "import numpy as np\n",
    "import matplotlib.pyplot as plt\n",
    "import torch\n",
    "import torch.optim as optim\n",
    "from torch import nn # nn contains all of PyTorch's building blocks for neural networks\n",
    "from torch.utils.data import Dataset, TensorDataset, DataLoader\n",
    "from torch.utils.data.dataset import random_split"
   ]
  },
  {
   "cell_type": "code",
   "execution_count": 123,
   "metadata": {},
   "outputs": [
    {
     "name": "stdout",
     "output_type": "stream",
     "text": [
      "Using device: cpu\n"
     ]
    }
   ],
   "source": [
    "# Setup device agnostic code\n",
    "device = \"cuda\" if torch.cuda.is_available() else \"cpu\"\n",
    "print(f\"Using device: {device}\")"
   ]
  },
  {
   "cell_type": "code",
   "execution_count": 124,
   "metadata": {},
   "outputs": [],
   "source": [
    "# Create *known* parameters\n",
    "weight = 0.7\n",
    "bias = 0.3\n",
    "\n",
    "# Create data\n",
    "start = 0\n",
    "end = 1\n",
    "step = 0.01\n",
    "X = torch.arange(start, end, step).unsqueeze(dim=1)\n",
    "y = weight * X + bias \n",
    "\n",
    "# If they where numpy arrays\n",
    "#x_tensor = torch.from_numpy(x).float()\n",
    "#y_tensor = torch.from_numpy(y).float()\n"
   ]
  },
  {
   "cell_type": "code",
   "execution_count": 125,
   "metadata": {},
   "outputs": [
    {
     "name": "stdout",
     "output_type": "stream",
     "text": [
      "(tensor([0.2600]), tensor([0.4820]))\n"
     ]
    }
   ],
   "source": [
    "class CustomDataset(Dataset):\n",
    "    def __init__(self, x_tensor, y_tensor):\n",
    "        self.x = x_tensor\n",
    "        self.y = y_tensor\n",
    "\n",
    "    def __getitem__(self, index):\n",
    "        return (self.x[index], self.y[index])\n",
    "\n",
    "    def __len__(self):\n",
    "        return len(self.x)\n",
    "\n",
    "#dataset = TensorDataset(X, y) \n",
    "dataset = CustomDataset(X, y)\n",
    "\n",
    "train_dataset, val_dataset = random_split(dataset, [80, 20])\n",
    "print(train_dataset[0])\n",
    "train_loader = DataLoader(dataset=train_dataset, batch_size=16)\n",
    "val_loader = DataLoader(dataset=val_dataset, batch_size=20)"
   ]
  },
  {
   "cell_type": "code",
   "execution_count": 126,
   "metadata": {},
   "outputs": [],
   "source": [
    "X_train = torch.from_numpy(np.array([train_dataset[i][0].numpy() for i in range(len(train_dataset)) ]))\n",
    "y_train = torch.from_numpy(np.array([train_dataset[i][1].numpy() for i in range(len(train_dataset)) ]))\n",
    "\n",
    "X_val = torch.from_numpy(np.array([val_dataset[i][0].numpy() for i in range(len(val_dataset)) ]))\n",
    "y_val = torch.from_numpy(np.array([val_dataset[i][1].numpy() for i in range(len(val_dataset)) ]))"
   ]
  },
  {
   "cell_type": "code",
   "execution_count": 127,
   "metadata": {},
   "outputs": [],
   "source": [
    "def plot_predictions(train_data=X_train, \n",
    "                     train_labels=y_train, \n",
    "                     test_data=X_val, \n",
    "                     test_labels=y_val, \n",
    "                     predictions=None):\n",
    "  \n",
    "\n",
    "\n",
    "  \"\"\"\n",
    "  Plots training data, test data and compares predictions.\n",
    "  \"\"\"\n",
    "  plt.figure(figsize=(10, 5))\n",
    "\n",
    "  # Plot training data in blue\n",
    "  plt.scatter(train_data, train_labels, c=\"b\", s=4, label=\"Training data\")\n",
    "  \n",
    "  # Plot test data in green\n",
    "  plt.scatter(test_data, test_labels, c=\"orange\", s=4, label=\"Testing data\")\n",
    "\n",
    "  if predictions is not None:\n",
    "    # Plot the predictions in red (predictions were made on the test data)\n",
    "    plt.scatter(test_data, predictions, c=\"g\", s=4, label=\"Predictions\")\n",
    "\n",
    "  # Show the legend\n",
    "  plt.legend(prop={\"size\": 14});"
   ]
  },
  {
   "cell_type": "code",
   "execution_count": 128,
   "metadata": {},
   "outputs": [
    {
     "data": {
      "image/png": "[encoded data removed]",
      "text/plain": [
       "<Figure size 1000x500 with 1 Axes>"
      ]
     },
     "metadata": {},
     "output_type": "display_data"
    }
   ],
   "source": [
    "plot_predictions();"
   ]
  },
  {
   "attachments": {},
   "cell_type": "markdown",
   "metadata": {},
   "source": [
    "#### Building a PyTorch linear model"
   ]
  },
  {
   "cell_type": "code",
   "execution_count": 129,
   "metadata": {},
   "outputs": [],
   "source": [
    "# Create a Linear Regression model class\n",
    "class ManualLinearRegression(nn.Module):\n",
    "    def __init__(self):\n",
    "        super().__init__()\n",
    "        self.linear = nn.Linear(1, 1)\n",
    "\n",
    "    # Forward defines the computation in the model\n",
    "    def forward(self, x: torch.Tensor)-> torch.Tensor:\n",
    "        return self.linear(x)"
   ]
  },
  {
   "attachments": {},
   "cell_type": "markdown",
   "metadata": {},
   "source": [
    "#### Training function"
   ]
  },
  {
   "cell_type": "code",
   "execution_count": 130,
   "metadata": {},
   "outputs": [],
   "source": [
    "def make_train_step(model, loss_fn, optimizer):\n",
    "    def train_step(x, y):\n",
    "\n",
    "        # Put model in training mode (this is the default state of a model)\n",
    "        model.train()\n",
    "\n",
    "        # 1. Forward pass on train data using the forward() method inside\n",
    "        yhat = model(x)\n",
    "\n",
    "        # 2. Calculate the loss (how different are our models predictions to the ground truth)\n",
    "        loss = loss_fn(y, yhat)\n",
    "\n",
    "        # 3. Zero grad of the optimizer\n",
    "        optimizer.zero_grad()\n",
    "\n",
    "        # 4. Loss backwards\n",
    "        loss.backward()\n",
    "\n",
    "        # 5. Progress the optimizer\n",
    "        optimizer.step()\n",
    "        \n",
    "        return loss.item()\n",
    "    return train_step"
   ]
  },
  {
   "attachments": {},
   "cell_type": "markdown",
   "metadata": {},
   "source": [
    "#### Training Loop"
   ]
  },
  {
   "cell_type": "code",
   "execution_count": 131,
   "metadata": {},
   "outputs": [
    {
     "name": "stdout",
     "output_type": "stream",
     "text": [
      "OrderedDict([('linear.weight', tensor([[0.7645]])), ('linear.bias', tensor([0.8300]))])\n",
      "[1] Training loss: 0.137\t Validation loss: 0.020\n",
      "[2] Training loss: 0.009\t Validation loss: 0.003\n",
      "[3] Training loss: 0.002\t Validation loss: 0.002\n",
      "[4] Training loss: 0.002\t Validation loss: 0.001\n",
      "[5] Training loss: 0.001\t Validation loss: 0.001\n",
      "[6] Training loss: 0.001\t Validation loss: 0.001\n",
      "[7] Training loss: 0.001\t Validation loss: 0.001\n",
      "[8] Training loss: 0.001\t Validation loss: 0.001\n",
      "[9] Training loss: 0.001\t Validation loss: 0.001\n",
      "[10] Training loss: 0.001\t Validation loss: 0.001\n",
      "[11] Training loss: 0.001\t Validation loss: 0.001\n",
      "[12] Training loss: 0.001\t Validation loss: 0.000\n",
      "[13] Training loss: 0.000\t Validation loss: 0.000\n",
      "[14] Training loss: 0.000\t Validation loss: 0.000\n",
      "[15] Training loss: 0.000\t Validation loss: 0.000\n",
      "[16] Training loss: 0.000\t Validation loss: 0.000\n",
      "[17] Training loss: 0.000\t Validation loss: 0.000\n",
      "[18] Training loss: 0.000\t Validation loss: 0.000\n",
      "[19] Training loss: 0.000\t Validation loss: 0.000\n",
      "[20] Training loss: 0.000\t Validation loss: 0.000\n",
      "[21] Training loss: 0.000\t Validation loss: 0.000\n",
      "[22] Training loss: 0.000\t Validation loss: 0.000\n",
      "[23] Training loss: 0.000\t Validation loss: 0.000\n",
      "[24] Training loss: 0.000\t Validation loss: 0.000\n",
      "[25] Training loss: 0.000\t Validation loss: 0.000\n",
      "[26] Training loss: 0.000\t Validation loss: 0.000\n",
      "[27] Training loss: 0.000\t Validation loss: 0.000\n",
      "[28] Training loss: 0.000\t Validation loss: 0.000\n",
      "[29] Training loss: 0.000\t Validation loss: 0.000\n",
      "[30] Training loss: 0.000\t Validation loss: 0.000\n",
      "[31] Training loss: 0.000\t Validation loss: 0.000\n",
      "[32] Training loss: 0.000\t Validation loss: 0.000\n",
      "[33] Training loss: 0.000\t Validation loss: 0.000\n",
      "[34] Training loss: 0.000\t Validation loss: 0.000\n",
      "[35] Training loss: 0.000\t Validation loss: 0.000\n",
      "[36] Training loss: 0.000\t Validation loss: 0.000\n",
      "[37] Training loss: 0.000\t Validation loss: 0.000\n",
      "[38] Training loss: 0.000\t Validation loss: 0.000\n",
      "[39] Training loss: 0.000\t Validation loss: 0.000\n",
      "[40] Training loss: 0.000\t Validation loss: 0.000\n",
      "[41] Training loss: 0.000\t Validation loss: 0.000\n",
      "[42] Training loss: 0.000\t Validation loss: 0.000\n",
      "[43] Training loss: 0.000\t Validation loss: 0.000\n",
      "[44] Training loss: 0.000\t Validation loss: 0.000\n",
      "[45] Training loss: 0.000\t Validation loss: 0.000\n",
      "[46] Training loss: 0.000\t Validation loss: 0.000\n",
      "[47] Training loss: 0.000\t Validation loss: 0.000\n",
      "[48] Training loss: 0.000\t Validation loss: 0.000\n",
      "[49] Training loss: 0.000\t Validation loss: 0.000\n",
      "[50] Training loss: 0.000\t Validation loss: 0.000\n",
      "[51] Training loss: 0.000\t Validation loss: 0.000\n",
      "[52] Training loss: 0.000\t Validation loss: 0.000\n",
      "[53] Training loss: 0.000\t Validation loss: 0.000\n",
      "[54] Training loss: 0.000\t Validation loss: 0.000\n",
      "[55] Training loss: 0.000\t Validation loss: 0.000\n",
      "[56] Training loss: 0.000\t Validation loss: 0.000\n",
      "[57] Training loss: 0.000\t Validation loss: 0.000\n",
      "[58] Training loss: 0.000\t Validation loss: 0.000\n",
      "[59] Training loss: 0.000\t Validation loss: 0.000\n",
      "[60] Training loss: 0.000\t Validation loss: 0.000\n",
      "[61] Training loss: 0.000\t Validation loss: 0.000\n",
      "[62] Training loss: 0.000\t Validation loss: 0.000\n",
      "[63] Training loss: 0.000\t Validation loss: 0.000\n",
      "[64] Training loss: 0.000\t Validation loss: 0.000\n",
      "[65] Training loss: 0.000\t Validation loss: 0.000\n",
      "[66] Training loss: 0.000\t Validation loss: 0.000\n",
      "[67] Training loss: 0.000\t Validation loss: 0.000\n",
      "[68] Training loss: 0.000\t Validation loss: 0.000\n",
      "[69] Training loss: 0.000\t Validation loss: 0.000\n",
      "[70] Training loss: 0.000\t Validation loss: 0.000\n",
      "[71] Training loss: 0.000\t Validation loss: 0.000\n",
      "[72] Training loss: 0.000\t Validation loss: 0.000\n",
      "[73] Training loss: 0.000\t Validation loss: 0.000\n",
      "[74] Training loss: 0.000\t Validation loss: 0.000\n",
      "[75] Training loss: 0.000\t Validation loss: 0.000\n",
      "[76] Training loss: 0.000\t Validation loss: 0.000\n",
      "[77] Training loss: 0.000\t Validation loss: 0.000\n",
      "[78] Training loss: 0.000\t Validation loss: 0.000\n",
      "[79] Training loss: 0.000\t Validation loss: 0.000\n",
      "[80] Training loss: 0.000\t Validation loss: 0.000\n",
      "[81] Training loss: 0.000\t Validation loss: 0.000\n",
      "[82] Training loss: 0.000\t Validation loss: 0.000\n",
      "[83] Training loss: 0.000\t Validation loss: 0.000\n",
      "[84] Training loss: 0.000\t Validation loss: 0.000\n",
      "[85] Training loss: 0.000\t Validation loss: 0.000\n",
      "[86] Training loss: 0.000\t Validation loss: 0.000\n",
      "[87] Training loss: 0.000\t Validation loss: 0.000\n",
      "[88] Training loss: 0.000\t Validation loss: 0.000\n",
      "[89] Training loss: 0.000\t Validation loss: 0.000\n",
      "[90] Training loss: 0.000\t Validation loss: 0.000\n",
      "[91] Training loss: 0.000\t Validation loss: 0.000\n",
      "[92] Training loss: 0.000\t Validation loss: 0.000\n",
      "[93] Training loss: 0.000\t Validation loss: 0.000\n",
      "[94] Training loss: 0.000\t Validation loss: 0.000\n",
      "[95] Training loss: 0.000\t Validation loss: 0.000\n",
      "[96] Training loss: 0.000\t Validation loss: 0.000\n",
      "[97] Training loss: 0.000\t Validation loss: 0.000\n",
      "[98] Training loss: 0.000\t Validation loss: 0.000\n",
      "[99] Training loss: 0.000\t Validation loss: 0.000\n",
      "[100] Training loss: 0.000\t Validation loss: 0.000\n",
      "OrderedDict([('linear.weight', tensor([[0.6998]])), ('linear.bias', tensor([0.3001]))])\n"
     ]
    }
   ],
   "source": [
    "# Estimate a and b\n",
    "torch.manual_seed(42)\n",
    "\n",
    "model = ManualLinearRegression().to(device) # model = nn.Sequential(nn.Linear(1, 1)).to(device)\n",
    "loss_fn = nn.MSELoss(reduction='mean')\n",
    "optimizer = optim.SGD(model.parameters(), lr=1e-1)\n",
    "train_step = make_train_step(model, loss_fn, optimizer)\n",
    "\n",
    "n_epochs = 100\n",
    "training_losses = []\n",
    "validation_losses = []\n",
    "print(model.state_dict())\n",
    "\n",
    "for epoch in range(n_epochs):\n",
    "    batch_losses = []\n",
    "    for x_batch, y_batch in train_loader:\n",
    "        x_batch = x_batch.to(device)\n",
    "        y_batch = y_batch.to(device)\n",
    "        loss = train_step(x_batch, y_batch)\n",
    "        batch_losses.append(loss)\n",
    "    training_loss = np.mean(batch_losses)\n",
    "    training_losses.append(training_loss)\n",
    "\n",
    "    with torch.inference_mode():\n",
    "        val_losses = []\n",
    "        for x_val, y_val in val_loader:\n",
    "            # Make sure the data is in the same device as the model\n",
    "            x_val = x_val.to(device)\n",
    "            y_val = y_val.to(device)\n",
    "            model.eval()\n",
    "\n",
    "            # 1. Forward pass on test data\n",
    "            yhat = model(x_val)\n",
    "\n",
    "            # 2. Caculate loss on test data\n",
    "            val_loss = loss_fn(y_val, yhat).item()\n",
    "            val_losses.append(val_loss)\n",
    "            \n",
    "        validation_loss = np.mean(val_losses)\n",
    "        validation_losses.append(validation_loss)\n",
    "\n",
    "    print(f\"[{epoch+1}] Training loss: {training_loss:.3f}\\t Validation loss: {validation_loss:.3f}\")\n",
    "\n",
    "print(model.state_dict())"
   ]
  },
  {
   "cell_type": "code",
   "execution_count": 132,
   "metadata": {},
   "outputs": [
    {
     "name": "stdout",
     "output_type": "stream",
     "text": [
      "100 100\n"
     ]
    },
    {
     "data": {
      "image/png": "[encoded data removed]",
      "text/plain": [
       "<Figure size 640x480 with 1 Axes>"
      ]
     },
     "metadata": {},
     "output_type": "display_data"
    }
   ],
   "source": [
    "# Plot the loss curves\n",
    "epoch_count = [i for i in range(n_epochs)]\n",
    "print(len(training_losses),len(validation_losses))\n",
    "plt.plot(epoch_count, training_losses, label=\"Train loss\")\n",
    "plt.plot(epoch_count, validation_losses, label=\"Validation loss\")\n",
    "plt.title(\"Training and Validation loss curves\")\n",
    "plt.ylabel(\"Loss\")\n",
    "plt.xlabel(\"Epochs\")\n",
    "plt.legend();"
   ]
  },
  {
   "attachments": {},
   "cell_type": "markdown",
   "metadata": {},
   "source": [
    "#### Making predictions"
   ]
  },
  {
   "cell_type": "code",
   "execution_count": 133,
   "metadata": {},
   "outputs": [
    {
     "data": {
      "text/plain": [
       "tensor([[0.5380],\n",
       "        [0.3771],\n",
       "        [0.7830],\n",
       "        [0.3421],\n",
       "        [0.8739],\n",
       "        [0.6780],\n",
       "        [0.9859],\n",
       "        [0.6010],\n",
       "        [0.8040],\n",
       "        [0.4051],\n",
       "        [0.5940],\n",
       "        [0.4401],\n",
       "        [0.6920],\n",
       "        [0.3701],\n",
       "        [0.6220],\n",
       "        [0.3841],\n",
       "        [0.6710],\n",
       "        [0.9299],\n",
       "        [0.5870],\n",
       "        [0.8809]])"
      ]
     },
     "execution_count": 133,
     "metadata": {},
     "output_type": "execute_result"
    }
   ],
   "source": [
    "# 1. Set the model in evaluation mode\n",
    "model.eval()\n",
    "\n",
    "# 2. Setup the inference mode context manager\n",
    "with torch.inference_mode():\n",
    "  # 3. Make sure the calculations are done with the model and data on the same device\n",
    "  # in our case, we haven't setup device-agnostic code yet so our data and model are\n",
    "  # on the CPU by default.\n",
    "  # model_0.to(device)\n",
    "  # X_test = X_test.to(device)\n",
    "  y_preds = model(X_val)\n",
    "y_preds"
   ]
  },
  {
   "cell_type": "code",
   "execution_count": 134,
   "metadata": {},
   "outputs": [
    {
     "data": {
      "image/png": "[encoded data removed]",
      "text/plain": [
       "<Figure size 1000x500 with 1 Axes>"
      ]
     },
     "metadata": {},
     "output_type": "display_data"
    }
   ],
   "source": [
    "# plot_predictions(predictions=y_preds) # -> won't work... data not on CPU\n",
    "\n",
    "# Put data on the CPU and plot it\n",
    "plot_predictions(predictions=y_preds.cpu())"
   ]
  },
  {
   "attachments": {},
   "cell_type": "markdown",
   "metadata": {},
   "source": [
    "#### Saving and loading a model"
   ]
  },
  {
   "cell_type": "code",
   "execution_count": 135,
   "metadata": {},
   "outputs": [
    {
     "name": "stdout",
     "output_type": "stream",
     "text": [
      "Saving model to: models\\01_pytorch_workflow_model.pth\n"
     ]
    }
   ],
   "source": [
    "from pathlib import Path\n",
    "\n",
    "# 1. Create models directory \n",
    "MODEL_PATH = Path(\"models\")\n",
    "MODEL_PATH.mkdir(parents=True, exist_ok=True)\n",
    "\n",
    "# 2. Create model save path \n",
    "MODEL_NAME = \"01_pytorch_workflow_model.pth\"\n",
    "MODEL_SAVE_PATH = MODEL_PATH / MODEL_NAME\n",
    "\n",
    "# 3. Save the model state dict \n",
    "print(f\"Saving model to: {MODEL_SAVE_PATH}\")\n",
    "torch.save(obj=model.state_dict(), # only saving the state_dict() only saves the models learned parameters\n",
    "           f=MODEL_SAVE_PATH) "
   ]
  },
  {
   "cell_type": "code",
   "execution_count": 136,
   "metadata": {},
   "outputs": [
    {
     "name": "stdout",
     "output_type": "stream",
     "text": [
      "Loaded model:\n",
      "ManualLinearRegression(\n",
      "  (linear): Linear(in_features=1, out_features=1, bias=True)\n",
      ")\n",
      "Model on device : cpu\n"
     ]
    }
   ],
   "source": [
    "# 1. Create a new instance of the LinearRegressionModelV2() class\n",
    "# 2. Load in the model state dict using torch.nn.Module.load_state_dict()\n",
    "# 3. Send the new instance of the model to the target device (to ensure our code is device-agnostic)\n",
    "\n",
    "\n",
    "# Instantiate a fresh instance of LinearRegressionModelV2\n",
    "loaded_model = ManualLinearRegression()\n",
    "\n",
    "# Load model state dict \n",
    "loaded_model.load_state_dict(torch.load(MODEL_SAVE_PATH))\n",
    "\n",
    "# Put model to target device (if your data is on GPU, model will have to be on GPU to make predictions)\n",
    "loaded_model.to(device)\n",
    "\n",
    "print(f\"Loaded model:\\n{loaded_model}\")\n",
    "print(f\"Model on device : {next( loaded_model.parameters()).device}\")"
   ]
  },
  {
   "cell_type": "code",
   "execution_count": 137,
   "metadata": {},
   "outputs": [
    {
     "data": {
      "text/plain": [
       "tensor([[True],\n",
       "        [True],\n",
       "        [True],\n",
       "        [True],\n",
       "        [True],\n",
       "        [True],\n",
       "        [True],\n",
       "        [True],\n",
       "        [True],\n",
       "        [True],\n",
       "        [True],\n",
       "        [True],\n",
       "        [True],\n",
       "        [True],\n",
       "        [True],\n",
       "        [True],\n",
       "        [True],\n",
       "        [True],\n",
       "        [True],\n",
       "        [True]])"
      ]
     },
     "execution_count": 137,
     "metadata": {},
     "output_type": "execute_result"
    }
   ],
   "source": [
    "# Evaluate loaded model\n",
    "loaded_model.eval()\n",
    "with torch.inference_mode():\n",
    "    loaded_model_1_preds = loaded_model(X_val)\n",
    "y_preds == loaded_model_1_preds"
   ]
  }
 ],
 "metadata": {
  "kernelspec": {
   "display_name": "MLA",
   "language": "python",
   "name": "python3"
  },
  "language_info": {
   "codemirror_mode": {
    "name": "ipython",
    "version": 3
   },
   "file_extension": ".py",
   "mimetype": "text/x-python",
   "name": "python",
   "nbconvert_exporter": "python",
   "pygments_lexer": "ipython3",
   "version": "3.9.15 | packaged by conda-forge | (main, Nov 22 2022, 08:39:05) [MSC v.1929 64 bit (AMD64)]"
  },
  "orig_nbformat": 4,
  "vscode": {
   "interpreter": {
    "hash": "8dbdad539acdb4429f621ae9d1105fded3a52610e5b91721c63526e5cd2b51e0"
   }
  }
 },
 "nbformat": 4,
 "nbformat_minor": 2
}
